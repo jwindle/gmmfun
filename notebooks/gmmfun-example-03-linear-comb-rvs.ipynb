{
 "cells": [
  {
   "cell_type": "markdown",
   "id": "ce935dda-1deb-42fb-9a77-d4ec9d51a0f4",
   "metadata": {},
   "source": [
    "# Use case - estimating parameters for sums of random variables\n",
    "\n",
    "Modeling plant root growth motivates this example.  We are inspired by a simple 2-D model of root growth in which a root grows in a straight line at a certain angle for a given distance before modifying the angle and repeating the process.  We are interested in the distribution of root growth by depth.  It turns out that if we model the changes in slope directly, as opposed to the angle, we can reduce the formula of the depth of the root at a distance $r$ from where it emanated to\n",
    "$$\n",
    "y = v' x\n",
    "$$\n",
    "where $x_i, i = 1, \\ldots, k$ is the change in slope, $k-1$ is the number of kinks in the root prior to reaching radius $r$, $x_0 = 0$, and $v$ is related to the distance the root travels before changing direction.\n",
    "\n",
    "We will assume $x_i, i=1, \\ldots, k$ are i.i.d, and for the sake of this example, instead of working with real data, we will be simulating data and then trying to recover the true parameters.\n",
    "\n",
    "All of this work relies on the moment generating function (MGF).  Critically, we can easily go from a univariate MGF of a distribution, $M$, to a MGF for the linear combination of iid random variables from that distribution since\n",
    "$$\n",
    "\\mathbb{E}[e^{t v'x}] = \\prod_{i=1}^{k} \\mathbb{E}[e^{t v_i x_i}] = \\prod_{i=1}^{k} M(v_i t).\n",
    "$$\n",
    "\n",
    "Once we have a moment generating function, we can recover the underlying parameters using the generalized method of moments (see the [README](./README.md)).\n",
    "\n",
    "## Skew normal distribution\n",
    "\n",
    "For motivation, we will use the skew normal distribution, which is not stable in the sense that the linear combination does not live within the same family of distributions from which the individual components came.  You can find details about the skew normal distribution [here](https://en.wikipedia.org/wiki/Skew_normal_distribution).  It is possible to write down the density of a sum of iid skew normal random variables, but it is fairly cumbersome [(Nadarajah and Rui, 2017)](https://www.sciencedirect.com/science/article/pii/S0377042716303041).  [Pewsey (2010)](https://www.tandfonline.com/doi/abs/10.1080/02664760050120542) has a good analysis of issues faced when estimating the parameters of a skew normal distribution.\n",
    "\n",
    "For our purposes here, we only need to know the moment generating function of a skew normal distribution, which is\n",
    "$$\n",
    "M(t) = 2 * \\exp \\Big( \\xi t + \\frac{\\omega^2 t^2}{2} \\Big) \\; \\Phi(\\omega \\delta t)\n",
    "$$\n",
    "where $\\Phi$ is the cdf of a standard normal distribution, $\\xi$ and $\\omega$ are the parameters that shift and scale a base distribution, and \n",
    "$$\n",
    "\\delta = \\frac{\\alpha}{\\sqrt{1 + \\alpha^2}}.\n",
    "$$\n",
    "The mean and variance of this distribution are\n",
    "$$\n",
    "\\mu = \\xi + \\sqrt{\\frac{2}{\\pi}} \\omega \\delta \\; \\text{ and } \\sigma^2 = \\omega^2 \\Big( 1 - \\frac{2}{\\pi} \\delta^2 \\Big).\n",
    "$$\n",
    "The skewness (defined as $\\mathbb{E}[(X - \\mu)^3/\\sigma^3]$) is \n",
    "$$\n",
    "\\gamma = \\frac{4 - \\pi}{2} \\Big( \\frac{ \\frac{2}{\\pi} \\delta^2 }{1 - \\frac{2}{\\pi} \\delta^2} \\Big)^3.\n",
    "$$\n",
    "\n",
    "## Outline of notebook\n",
    "\n",
    "Below, we will begin by checking that all is working out when estimating the parameters for realizations from a skew normal distribution.  Then we will move on to estimating the parameters when working with a linear combination of skew normal distribution.  In both cases we will use both the empirical aympototic variance estimators and functional asymptotic variance estimators (see the [README](./README.md)).  The results will be similar, but we know from [Example 2](./gmmfun-example-02-asymptotics.ipynb) that the functional approach is more efficient."
   ]
  },
  {
   "cell_type": "markdown",
   "id": "762a3cd0-13be-428a-b81f-67301a43b66e",
   "metadata": {},
   "source": [
    "## Function definitions\n",
    "\n",
    "To begin we load the necessary packages, set up constants, and define several functions.  It will be helpful to move between various parameterizations of a skew normal distribution.  Functions like `dxo_from_axo` do that, which transforms from the $(\\alpha, \\xi, \\omega)$ parameterization to the $(\\delta, \\xi, \\omega)$ parameterization.  We also define several moment generating related functions (those with `mgf` in their name).  Lastly, we define a utility function for plotting."
   ]
  },
  {
   "cell_type": "code",
   "execution_count": 1,
   "id": "40d5749b-742c-49a1-b880-25366261fb0d",
   "metadata": {},
   "outputs": [],
   "source": [
    "import matplotlib.pyplot as plt\n",
    "%matplotlib inline\n",
    "plt.rcParams['figure.figsize'] = [8, 3]"
   ]
  },
  {
   "cell_type": "code",
   "execution_count": 2,
   "id": "059d007f-e2a1-4049-a703-b6ffddcb20b0",
   "metadata": {},
   "outputs": [],
   "source": [
    "import jax.numpy as jnp\n",
    "from jax import grad\n",
    "from jax.tree_util import Partial\n",
    "from jax.scipy.stats.norm import cdf as Phi\n",
    "import numpy as np\n",
    "from scipy.stats import skewnorm, skew\n",
    "from gmmfun import GmmMgf4, GmmMgf, GmmMgfAvar"
   ]
  },
  {
   "cell_type": "code",
   "execution_count": 3,
   "id": "4e1f5af8-7be6-4adc-bf8b-9e7e9151d8e3",
   "metadata": {},
   "outputs": [],
   "source": [
    "TWO_OVER_PI = 2 / np.pi\n",
    "ROOT_TWO_OVER_PI = np.sqrt(TWO_OVER_PI)\n",
    "\n",
    "lower_bounds_dxo = jnp.array([-1.0, -jnp.inf, 0.0])\n",
    "upper_bounds_dxo = jnp.array([ 1.0, jnp.inf, jnp.inf])\n",
    "bounds_dxo = (lower_bounds_dxo, upper_bounds_dxo)\n",
    "\n",
    "lower_bounds_ams = jnp.array([-jnp.inf, -jnp.inf, 0.0])\n",
    "upper_bounds_ams = jnp.array([ jnp.inf, jnp.inf, jnp.inf])\n",
    "bounds_ams = (lower_bounds_ams, upper_bounds_ams)"
   ]
  },
  {
   "cell_type": "code",
   "execution_count": 4,
   "id": "a0e938cd-b2f3-4df2-9361-62d88e80829b",
   "metadata": {},
   "outputs": [],
   "source": [
    "def alpha_from_delta(delta):\n",
    "    return delta / jnp.sqrt(1 - delta**2)\n",
    "\n",
    "def delta_from_alpha(alpha):\n",
    "    return alpha / jnp.sqrt(1 + alpha**2)\n",
    "\n",
    "def dxo_from_axo(axo):\n",
    "    delta = axo[0] / jnp.sqrt(1 + axo[0]**2)\n",
    "    return jnp.array([delta, axo[1], axo[2]])\n",
    "\n",
    "def axo_from_dxo(dxo):\n",
    "    alpha = dxo[0] / jnp.sqrt(1 - dxo[0]**2)\n",
    "    return jnp.array([alpha, dxo[1], dxo[2]])\n",
    "\n",
    "def dxo_from_ams(ams):\n",
    "    delta = ams[0] / jnp.sqrt(1 + ams[0]**2)\n",
    "    omega = ams[2] / jnp.sqrt(1 - TWO_OVER_PI * delta**2)\n",
    "    xi = ams[1] - ROOT_TWO_OVER_PI * omega * delta\n",
    "    return jnp.array([delta, xi, omega])\n",
    "\n",
    "def ams_from_dxo(dxo):\n",
    "    alpha = dxo[0] / jnp.sqrt(1 - dxo[0]**2)\n",
    "    mu = dxo[1] + ROOT_TWO_OVER_PI * dxo[2] * dxo[0]\n",
    "    sig = dxo[2] * jnp.sqrt(1 - TWO_OVER_PI * dxo[0]**2)\n",
    "    return jnp.array([alpha, mu, sig])\n",
    "\n",
    "def gamma_from_delta(delta):\n",
    "    z = TWO_OVER_PI * delta**2\n",
    "    return 0.5 * (4 - np.pi) * (z / (1 - z))**3\n",
    "\n",
    "def delta_from_gamma(gamma):\n",
    "    z_odds = jnp.power(2 * gamma / (4 - jnp.pi), 1/3)\n",
    "    z = z_odds / (1 + z_odds)\n",
    "    return jnp.sign(z) * jnp.sqrt(z / TWO_OVER_PI)\n",
    "\n",
    "def skew_norm_sample_moments(x):\n",
    "    \"\"\"Sample moments of alpha, mu, sigma, gamma, delta\"\"\"\n",
    "    mu_hat = np.mean(x)\n",
    "    sig_hat = np.std(x)\n",
    "    skew_hat = skew(x)\n",
    "    delta_hat = delta_from_gamma(skew_hat)\n",
    "    alpha_hat = alpha_from_delta(delta_hat)\n",
    "    return jnp.array([alpha_hat, mu_hat, sig_hat, skew_hat, delta_hat])\n",
    "\n",
    "def mgf_skew_norm_dxo(t, dxo):\n",
    "    \"\"\"MGF of skewnormal under (delta, xi, omega) parameterization\"\"\"\n",
    "    return 2.0 * jnp.exp(t * dxo[1] + 0.5 * jnp.square(dxo[2] * t)) * Phi(dxo[2] * dxo[0] * t)\n",
    "\n",
    "def mgf_skew_norm_ams(t, ams):\n",
    "    \"\"\"MGF of skewnormal under (delta, xi, omega) parameterization\"\"\"\n",
    "    dxo = dxo_from_ams(ams)\n",
    "    return mgf_skew_norm_dxo(t, dxo)\n",
    "\n",
    "def mgf_skew_norm_dxo_dot(v, t, dxo):\n",
    "    \"\"\"MGF of a linear combination v'x where x ~ SkewNormal(delta, xi, omega)\"\"\"\n",
    "    return jnp.prod(jnp.array([mgf_skew_norm_dxo(v_i * t, dxo) for v_i in v]))\n",
    "\n",
    "def plot_against_skew_norm(x, axo, ngrid=100):\n",
    "    \"\"\"Plot sample x against SkewNormal(alpha, xi, omega) density, which is Scipy parameterization\"\"\"\n",
    "    fig, ax = plt.subplots(1, 1)\n",
    "    sknorm = skewnorm(axo[0], loc=axo[1], scale=axo[2])\n",
    "    grid = np.linspace(sknorm.ppf(0.01), sknorm.ppf(0.99), ngrid)\n",
    "    ax.plot(grid, sknorm.pdf(grid), 'k-', lw=2, label='frozen pdf')\n",
    "    ax.hist(x, density=True, bins='auto', histtype='stepfilled', alpha=0.2)\n",
    "    return fig, ax"
   ]
  },
  {
   "cell_type": "markdown",
   "id": "436cffd9-00e9-42ac-870d-50949326077d",
   "metadata": {},
   "source": [
    "## True parameters\n",
    "\n",
    "For this example, the following parameters will be used for data generation."
   ]
  },
  {
   "cell_type": "code",
   "execution_count": 5,
   "id": "b9f30c34-909f-4906-8900-49df67273fb9",
   "metadata": {},
   "outputs": [
    {
     "data": {
      "text/plain": [
       "(Array([4., 1., 1.], dtype=float32),\n",
       " Array([ 0.97014254, -0.22263384,  1.5795041 ], dtype=float32),\n",
       " Array([ 4.0000024 , -0.22263384,  1.5795041 ], dtype=float32))"
      ]
     },
     "execution_count": 5,
     "metadata": {},
     "output_type": "execute_result"
    }
   ],
   "source": [
    "alpha0, mu0, sig0 = 4.0, 1.0, 1.0\n",
    "ams0 = jnp.array([alpha0, mu0, sig0])\n",
    "dxo0 = dxo_from_ams(ams0)\n",
    "axo0 = axo_from_dxo(dxo0)\n",
    "ams0, dxo0, axo0"
   ]
  },
  {
   "cell_type": "code",
   "execution_count": 6,
   "id": "cbf80429-b9fb-4894-8276-3ec988be5286",
   "metadata": {},
   "outputs": [],
   "source": [
    "# ams_from_dxo(dxo_from_ams(ams0))"
   ]
  },
  {
   "cell_type": "code",
   "execution_count": 7,
   "id": "cc897a5c-2852-4e49-9e34-34180710c232",
   "metadata": {},
   "outputs": [],
   "source": [
    "# dxo_from_axo(axo_from_dxo(dxo0))"
   ]
  },
  {
   "cell_type": "markdown",
   "id": "8d8943cf-fa4f-4bc3-8abb-1f022e2fff92",
   "metadata": {},
   "source": [
    "## Estimating population parameters for a single variable\n",
    "\n",
    "In this section, we will estimate the parameters for observations from a single variable.  We define the sample size `N`, sample `N` observations from a SkewNormal($\\alpha, \\xi, \\omega$) distribution, and then plot the results against the corresponding density."
   ]
  },
  {
   "cell_type": "code",
   "execution_count": 8,
   "id": "2c3d3571-27bd-4b7d-b04b-a0dae7fca5ce",
   "metadata": {},
   "outputs": [],
   "source": [
    "N = 200\n",
    "np.random.seed(12346)\n",
    "x = skewnorm.rvs(axo0[0], loc=axo0[1], scale=axo0[2], size=N)"
   ]
  },
  {
   "cell_type": "code",
   "execution_count": 9,
   "id": "1213c370-bab1-4563-96dd-8b19434821b9",
   "metadata": {
    "scrolled": true
   },
   "outputs": [
    {
     "data": {
      "image/png": "[encoded data removed]",
      "text/plain": [
       "<Figure size 800x300 with 1 Axes>"
      ]
     },
     "metadata": {},
     "output_type": "display_data"
    }
   ],
   "source": [
    "fig, ax = plot_against_skew_norm(x, axo0)"
   ]
  },
  {
   "cell_type": "markdown",
   "id": "61cab749-2f9b-4b18-81eb-a315b58d6bae",
   "metadata": {},
   "source": [
    "### Initialize using 3 moments\n",
    "\n",
    "It is important when using the optimization routines present in `GmmMgf` and similar classes to initialize the optimization at a reasonable value.  Otherwise, it is possible to get stuck in a local mode, which creates misleading results.  Having tried various initialization routines, it does seem important to initialize the skew in the correct direction.  Initializing at zero can result in an estimate with little skew, i.e. at a normal approximation.  When this occurs, the p-value suggests reject and the j statistic is quite large."
   ]
  },
  {
   "cell_type": "code",
   "execution_count": 10,
   "id": "261b7197-572b-4f12-97d1-129329ead71e",
   "metadata": {},
   "outputs": [
    {
     "data": {
      "text/plain": [
       "Array([2.3676276 , 0.8997479 , 0.9108185 , 0.69639456, 0.92120284],      dtype=float32)"
      ]
     },
     "execution_count": 10,
     "metadata": {},
     "output_type": "execute_result"
    }
   ],
   "source": [
    "# alpha, mu, sig, gamma (skewness), and delta\n",
    "samp_moments = skew_norm_sample_moments(x)\n",
    "samp_moments"
   ]
  },
  {
   "cell_type": "code",
   "execution_count": 11,
   "id": "7b2bd1fa-ef96-489c-9cc5-0f00bef42699",
   "metadata": {},
   "outputs": [],
   "source": [
    "ams_init_3 = jnp.array([jnp.sign(skew(x)), 0.0, 1.0])\n",
    "dxo_init_3 = dxo_from_ams(ams_init_3)"
   ]
  },
  {
   "cell_type": "code",
   "execution_count": 12,
   "id": "ff2d8e3a-f815-4471-9a63-23289557b845",
   "metadata": {},
   "outputs": [],
   "source": [
    "mgf_3 = GmmMgf(mgf_skew_norm_dxo, bounds_dxo, 3, x)\n",
    "out_init = mgf_3.opt_I(dxo_init_3)\n",
    "dxo_init = out_init.params"
   ]
  },
  {
   "cell_type": "markdown",
   "id": "e7c990e1-a397-4123-97a4-1f7ed9b14e3e",
   "metadata": {},
   "source": [
    "You can see from `dxo_init` that we have recovered values that are reasonable given the true values."
   ]
  },
  {
   "cell_type": "code",
   "execution_count": 13,
   "id": "6d8b5221-aca1-4f62-803b-ed1912848bc2",
   "metadata": {},
   "outputs": [
    {
     "data": {
      "text/plain": [
       "Array([ 0.95447195, -0.17052783,  1.4053757 ], dtype=float32)"
      ]
     },
     "execution_count": 13,
     "metadata": {},
     "output_type": "execute_result"
    }
   ],
   "source": [
    "dxo_init"
   ]
  },
  {
   "cell_type": "markdown",
   "id": "71c67076-af12-4bda-adaf-d1592d9874b1",
   "metadata": {},
   "source": [
    "Lastly, the J statistic below is zero, telling us that we have indeed solved a system of 3 equation and 3 unknowns exactly."
   ]
  },
  {
   "cell_type": "code",
   "execution_count": 14,
   "id": "1c63e091-5038-4aeb-a989-9f21e0b04f60",
   "metadata": {},
   "outputs": [
    {
     "data": {
      "text/plain": [
       "Array(3.7658765e-11, dtype=float32, weak_type=True)"
      ]
     },
     "execution_count": 14,
     "metadata": {},
     "output_type": "execute_result"
    }
   ],
   "source": [
    "mgf_3.jstat"
   ]
  },
  {
   "cell_type": "markdown",
   "id": "0ecadcb9-83f0-4040-a13c-9ff2a088d279",
   "metadata": {},
   "source": [
    "### Using 4 moments and empirical variance\n",
    "\n",
    "Next, we will estimate the parameters and test if the data seems to come from a skew normal distribution using 4 moments.  The results are similar, but now we also have a p-value to check to test whether the data comes from a skew normal distribution or not."
   ]
  },
  {
   "cell_type": "code",
   "execution_count": 15,
   "id": "02c95a9e-7b17-4b34-be43-8568749cb753",
   "metadata": {},
   "outputs": [
    {
     "data": {
      "text/plain": [
       "Array([ 0.95269465, -0.15897699,  1.3979135 ], dtype=float32)"
      ]
     },
     "execution_count": 15,
     "metadata": {},
     "output_type": "execute_result"
    }
   ],
   "source": [
    "mgf_4 = GmmMgf4(mgf_skew_norm_dxo, bounds_dxo, x)\n",
    "out = mgf_4.opt_I(dxo_init)\n",
    "out.params"
   ]
  },
  {
   "cell_type": "code",
   "execution_count": 16,
   "id": "24f6ff4b-9e64-4e89-a75c-cf642e882d2a",
   "metadata": {},
   "outputs": [
    {
     "name": "stdout",
     "output_type": "stream",
     "text": [
      "[2023-06-20 12:00:06.586763]: Iteration 1\n",
      "[2023-06-20 12:00:11.122521]: Iteration 2\n",
      "[2023-06-20 12:00:12.852707]: Iteration 3\n",
      "[2023-06-20 12:00:14.638484]: Iteration 4\n",
      "[2023-06-20 12:00:16.508713]: Iteration 5\n"
     ]
    },
    {
     "data": {
      "text/plain": [
       "[Array([ 0.9585216 , -0.18251371,  1.4115748 ], dtype=float32),\n",
       " Array([ 0.9585216 , -0.18251371,  1.4115748 ], dtype=float32),\n",
       " Array([ 0.9585216 , -0.18251371,  1.4115748 ], dtype=float32),\n",
       " Array([ 0.9585216 , -0.18251371,  1.4115748 ], dtype=float32),\n",
       " Array([ 0.9585216 , -0.18251371,  1.4115748 ], dtype=float32)]"
      ]
     },
     "execution_count": 16,
     "metadata": {},
     "output_type": "execute_result"
    }
   ],
   "source": [
    "trace_mgf_4 = mgf_4.update_both(5, verbose=True)\n",
    "[out.params for out in trace_mgf_4]"
   ]
  },
  {
   "cell_type": "markdown",
   "id": "cec5b4b9-599b-4db6-9bde-9927c849730d",
   "metadata": {},
   "source": [
    "As seen by the p-value, we will not reject that this data came from a skew normal distribution."
   ]
  },
  {
   "cell_type": "code",
   "execution_count": 17,
   "id": "96986a1c-6c7b-49d8-8145-0152662faca0",
   "metadata": {},
   "outputs": [
    {
     "data": {
      "text/plain": [
       "(0.8369697225145359, Array(0.04234174, dtype=float32, weak_type=True))"
      ]
     },
     "execution_count": 17,
     "metadata": {},
     "output_type": "execute_result"
    }
   ],
   "source": [
    "mgf_4.pval, mgf_4.jstat"
   ]
  },
  {
   "cell_type": "markdown",
   "id": "84b1268b-aa09-4759-87cc-9fa17bea6717",
   "metadata": {},
   "source": [
    "### Using the functional aysmptotic variance approach\n",
    "\n",
    "We can repeat this using the functional asympototic variance approach.  This takes longer to run, but is more efficient (see [Example Notebook 2](./gmmfun-example-02-asymptotics))."
   ]
  },
  {
   "cell_type": "code",
   "execution_count": 18,
   "id": "c2b41e51-0a2b-4ee3-90eb-3b58c638ddd5",
   "metadata": {},
   "outputs": [
    {
     "data": {
      "text/plain": [
       "Array([ 0.95268834, -0.15896747,  1.3979083 ], dtype=float32)"
      ]
     },
     "execution_count": 18,
     "metadata": {},
     "output_type": "execute_result"
    }
   ],
   "source": [
    "mgf_4_avar = GmmMgfAvar(mgf_skew_norm_dxo, bounds_dxo, 4, x)\n",
    "out = mgf_4_avar.opt_I(dxo_init)\n",
    "out.params"
   ]
  },
  {
   "cell_type": "code",
   "execution_count": 19,
   "id": "9ab79884-c0d3-4de8-89b4-920b1ecc0116",
   "metadata": {},
   "outputs": [
    {
     "name": "stdout",
     "output_type": "stream",
     "text": [
      "[2023-06-20 12:00:21.686213]: Iteration 1\n",
      "[2023-06-20 12:01:17.763122]: Iteration 2\n",
      "[2023-06-20 12:02:08.486191]: Iteration 3\n",
      "[2023-06-20 12:02:52.637637]: Iteration 4\n",
      "[2023-06-20 12:03:36.414695]: Iteration 5\n"
     ]
    }
   ],
   "source": [
    "# This will take a while\n",
    "trace_mgf_4_avar = mgf_4_avar.update_both(5, verbose=True)"
   ]
  },
  {
   "cell_type": "code",
   "execution_count": 20,
   "id": "5d143dcb-73fd-451e-9f21-d0409c11b887",
   "metadata": {},
   "outputs": [
    {
     "data": {
      "text/plain": [
       "[Array([ 0.95750415, -0.17996445,  1.4123945 ], dtype=float32),\n",
       " Array([ 0.95750415, -0.17996445,  1.4123945 ], dtype=float32),\n",
       " Array([ 0.95750415, -0.17996445,  1.4123945 ], dtype=float32),\n",
       " Array([ 0.95750415, -0.17996445,  1.4123945 ], dtype=float32),\n",
       " Array([ 0.95750415, -0.17996445,  1.4123945 ], dtype=float32)]"
      ]
     },
     "execution_count": 20,
     "metadata": {},
     "output_type": "execute_result"
    }
   ],
   "source": [
    "[out.params for out in trace_mgf_4_avar]"
   ]
  },
  {
   "cell_type": "code",
   "execution_count": 21,
   "id": "66204338-c77a-47fe-8181-7261306c5495",
   "metadata": {},
   "outputs": [
    {
     "data": {
      "text/plain": [
       "(0.9137880271986785, Array(0.01172062, dtype=float32, weak_type=True))"
      ]
     },
     "execution_count": 21,
     "metadata": {},
     "output_type": "execute_result"
    }
   ],
   "source": [
    "mgf_4_avar.pval, mgf_4_avar.jstat"
   ]
  },
  {
   "cell_type": "markdown",
   "id": "25a9a8dd-c90c-4ed0-b2da-3a2db8f08682",
   "metadata": {},
   "source": [
    "## Estimating population parameters for linear combinations of iid random variables\n",
    "\n",
    "Now, instead of estimating the parameters from observations from a single random variable, let us estimate the parameters from the linear combination of several random variables.  First, we remind ourselves of the true values we are estimating.  Then, we set the sample size to `N_lc`, define $v$, which is used to compute the linear combination $y = v'x$, and then generate samples of $y$ when the components of $x$ are iid as $\\text{SkewNormal}(\\delta_0, \\xi_0, \\omega_0)$.  We plot the histogram of the subsequent samples.  Lastly, we define the moment generating function for this choice of $v$."
   ]
  },
  {
   "cell_type": "code",
   "execution_count": 22,
   "id": "1e90e4d2-073d-497c-b35b-748d9865cebf",
   "metadata": {},
   "outputs": [
    {
     "data": {
      "text/plain": [
       "Array([ 0.97014254, -0.22263384,  1.5795041 ], dtype=float32)"
      ]
     },
     "execution_count": 22,
     "metadata": {},
     "output_type": "execute_result"
    }
   ],
   "source": [
    "dxo0"
   ]
  },
  {
   "cell_type": "code",
   "execution_count": 23,
   "id": "70045d48-f3c9-473b-ab67-a4166d63efa6",
   "metadata": {},
   "outputs": [],
   "source": [
    "N_lc = 200\n",
    "M = 2\n",
    "v = np.array([1.0, 2.0, 3.0])[0:M]\n",
    "\n",
    "np.random.seed(12346)\n",
    "X = skewnorm.rvs(axo0[0], loc=axo0[1], scale=axo0[2], size=(N_lc, M))\n",
    "y = np.matmul(X, v)"
   ]
  },
  {
   "cell_type": "code",
   "execution_count": 24,
   "id": "11a35dd2-60a7-4a2b-b89e-2ba9fc044ef9",
   "metadata": {},
   "outputs": [
    {
     "data": {
      "image/png": "[encoded data removed]",
      "text/plain": [
       "<Figure size 800x300 with 1 Axes>"
      ]
     },
     "metadata": {},
     "output_type": "display_data"
    }
   ],
   "source": [
    "plt.hist(y, density=True, bins='auto', histtype='stepfilled', alpha=0.2);"
   ]
  },
  {
   "cell_type": "code",
   "execution_count": 25,
   "id": "0e524609-7ddf-41ef-834d-3cdaa95b10cc",
   "metadata": {},
   "outputs": [],
   "source": [
    "mgf_skew_norm_lc_dxo = Partial(mgf_skew_norm_dxo_dot, v)"
   ]
  },
  {
   "cell_type": "markdown",
   "id": "390e86f2-65cb-429a-b904-1721045935be",
   "metadata": {},
   "source": [
    "### Initialization\n",
    "\n",
    "Like above, we will use GMM with 3 moments to create the initial value when optimizing with more moments."
   ]
  },
  {
   "cell_type": "code",
   "execution_count": 26,
   "id": "c4203ba9-0bac-4572-9412-ae9cb7f2f594",
   "metadata": {},
   "outputs": [],
   "source": [
    "ams_init_3_lc = jnp.array([jnp.sign(skew(y)), 0.0, 1.0])\n",
    "dxo_init_3_lc = dxo_from_ams(ams_init_3_lc)"
   ]
  },
  {
   "cell_type": "code",
   "execution_count": 27,
   "id": "4677bdff-234b-4d0f-81b7-b761f02be0c0",
   "metadata": {},
   "outputs": [
    {
     "data": {
      "text/plain": [
       "Array([ 0.9356721 , -0.15728925,  1.422096  ], dtype=float32)"
      ]
     },
     "execution_count": 27,
     "metadata": {},
     "output_type": "execute_result"
    }
   ],
   "source": [
    "mgf_3_lc = GmmMgf(mgf_skew_norm_lc_dxo, bounds_dxo, 3, y)\n",
    "out_init_lc = mgf_3_lc.opt_I(dxo_init_3_lc)\n",
    "dxo_init_lc = out_init_lc.params\n",
    "dxo_init_lc"
   ]
  },
  {
   "cell_type": "markdown",
   "id": "b8710e7e-b088-4850-9ddc-35bb7fa48a88",
   "metadata": {},
   "source": [
    "### Empirical variance\n",
    "\n",
    "Here we estimate the parameters using 4 moments and the empirical estimator for the asympototic variance.  We recover parameters that are similar to the underlying true values and we do not reject the data coming from a skew normal distribution."
   ]
  },
  {
   "cell_type": "code",
   "execution_count": 28,
   "id": "46cefddc-d4f4-4f47-9192-8429f747ec88",
   "metadata": {},
   "outputs": [
    {
     "data": {
      "text/plain": [
       "Array([ 0.9238279 , -0.05517761,  1.3466107 ], dtype=float32)"
      ]
     },
     "execution_count": 28,
     "metadata": {},
     "output_type": "execute_result"
    }
   ],
   "source": [
    "mgf_4_lc = GmmMgf(mgf_skew_norm_lc_dxo, bounds_dxo, 4, y)\n",
    "out = mgf_4_lc.opt_I(dxo_init_lc)\n",
    "out.params"
   ]
  },
  {
   "cell_type": "code",
   "execution_count": 29,
   "id": "f4368fc4-758f-4775-a2b8-bf822e1633f8",
   "metadata": {},
   "outputs": [
    {
     "name": "stdout",
     "output_type": "stream",
     "text": [
      "[2023-06-20 12:04:33.053573]: Iteration 1\n",
      "[2023-06-20 12:04:41.691948]: Iteration 2\n",
      "[2023-06-20 12:04:47.806821]: Iteration 3\n",
      "[2023-06-20 12:04:53.057577]: Iteration 4\n",
      "[2023-06-20 12:04:58.310297]: Iteration 5\n"
     ]
    },
    {
     "data": {
      "text/plain": [
       "[Array([ 0.973757  , -0.25242603,  1.4390903 ], dtype=float32),\n",
       " Array([ 0.97445726, -0.25563857,  1.4406226 ], dtype=float32),\n",
       " Array([ 0.97445726, -0.25563857,  1.4406226 ], dtype=float32),\n",
       " Array([ 0.97445726, -0.25563857,  1.4406226 ], dtype=float32),\n",
       " Array([ 0.97445726, -0.25563857,  1.4406226 ], dtype=float32)]"
      ]
     },
     "execution_count": 29,
     "metadata": {},
     "output_type": "execute_result"
    }
   ],
   "source": [
    "trace_mgf_4_lc = mgf_4_lc.update_both(5, verbose=True)\n",
    "[out.params for out in trace_mgf_4_lc]"
   ]
  },
  {
   "cell_type": "code",
   "execution_count": 30,
   "id": "ef9942d7-8676-4a5f-abf3-f2225d15f08c",
   "metadata": {},
   "outputs": [
    {
     "data": {
      "text/plain": [
       "(0.8369697225145359, Array(0.04234174, dtype=float32, weak_type=True))"
      ]
     },
     "execution_count": 30,
     "metadata": {},
     "output_type": "execute_result"
    }
   ],
   "source": [
    "mgf_4.pval, mgf_4.jstat"
   ]
  },
  {
   "cell_type": "markdown",
   "id": "cd93753a-309c-42a1-b169-652403aa09b4",
   "metadata": {},
   "source": [
    "### Using functional aymptotic variance\n",
    "\n",
    "Now we repeat the process, but this time using 4 moments and the functinal estimator of the asmpytotic variance.  The results are similar."
   ]
  },
  {
   "cell_type": "code",
   "execution_count": 31,
   "id": "a28bc74c-7b63-4636-a554-bdc61bffeb79",
   "metadata": {},
   "outputs": [
    {
     "data": {
      "text/plain": [
       "Array([ 0.9238279 , -0.05517761,  1.3466107 ], dtype=float32)"
      ]
     },
     "execution_count": 31,
     "metadata": {},
     "output_type": "execute_result"
    }
   ],
   "source": [
    "# This will take a while\n",
    "mgf_4_avar_lc = GmmMgfAvar(mgf_skew_norm_lc_dxo, bounds_dxo, 4, y)\n",
    "out = mgf_4_avar_lc.opt_I(dxo_init_lc)\n",
    "out.params"
   ]
  },
  {
   "cell_type": "code",
   "execution_count": 32,
   "id": "21455f88-bae1-46c7-99bb-60abb6ef6b22",
   "metadata": {},
   "outputs": [
    {
     "name": "stdout",
     "output_type": "stream",
     "text": [
      "[2023-06-20 12:05:12.616122]: Iteration 1\n",
      "[2023-06-20 12:06:33.343073]: Iteration 2\n",
      "[2023-06-20 12:08:02.420192]: Iteration 3\n",
      "[2023-06-20 12:09:30.492904]: Iteration 4\n",
      "[2023-06-20 12:10:47.646789]: Iteration 5\n"
     ]
    }
   ],
   "source": [
    "trace_mgf_4_avar_lc = mgf_4_avar_lc.update_both(5, verbose=True)"
   ]
  },
  {
   "cell_type": "code",
   "execution_count": 33,
   "id": "0ea269c7-38b9-41c6-ad9e-3481e969497f",
   "metadata": {},
   "outputs": [
    {
     "data": {
      "text/plain": [
       "[Array([ 0.96807265, -0.2524568 ,  1.482571  ], dtype=float32),\n",
       " Array([ 0.9688875 , -0.25712025,  1.4981046 ], dtype=float32),\n",
       " Array([ 0.96858984, -0.2566607 ,  1.4990695 ], dtype=float32),\n",
       " Array([ 0.96857697, -0.25666562,  1.4990743 ], dtype=float32),\n",
       " Array([ 0.96857697, -0.25666562,  1.4990743 ], dtype=float32)]"
      ]
     },
     "execution_count": 33,
     "metadata": {},
     "output_type": "execute_result"
    }
   ],
   "source": [
    "[out.params for out in trace_mgf_4_avar_lc]"
   ]
  },
  {
   "cell_type": "code",
   "execution_count": 34,
   "id": "c3d2fccc-08bb-4f67-bf6f-ba187c512395",
   "metadata": {},
   "outputs": [
    {
     "data": {
      "text/plain": [
       "(0.3417613101026823, Array(0.9038132, dtype=float32, weak_type=True))"
      ]
     },
     "execution_count": 34,
     "metadata": {},
     "output_type": "execute_result"
    }
   ],
   "source": [
    "mgf_4_avar_lc.pval, mgf_4_avar_lc.jstat"
   ]
  },
  {
   "cell_type": "markdown",
   "id": "f6586994-94fb-4dbe-a35e-c8af603193db",
   "metadata": {},
   "source": [
    "### Compared to Gaussian\n",
    "\n",
    "Finally, let's test the data against the null hypothesis that it comes from a Gaussian distribution.  You can see below from the p-value that we reject that hypothesis."
   ]
  },
  {
   "cell_type": "code",
   "execution_count": 35,
   "id": "efe1d2a4-423d-4cad-b896-248e7385ab1d",
   "metadata": {},
   "outputs": [],
   "source": [
    "def mgf_norm(t, theta):\n",
    "    return jnp.exp(t * theta[0] + 0.5 * jnp.square(theta[1] * t))\n",
    "\n",
    "lower_bounds = jnp.array([-jnp.inf, 0.0])\n",
    "upper_bounds = jnp.array([ jnp.inf, jnp.inf])\n",
    "bounds_norm = (lower_bounds, upper_bounds)"
   ]
  },
  {
   "cell_type": "code",
   "execution_count": 36,
   "id": "bc13bf32-0b28-468f-ba6c-cf3dd3948780",
   "metadata": {},
   "outputs": [],
   "source": [
    "norm_init = jnp.array([jnp.mean(y), jnp.std(y)])"
   ]
  },
  {
   "cell_type": "code",
   "execution_count": 37,
   "id": "151a285e-ea67-453b-b5c7-277fb38740c0",
   "metadata": {},
   "outputs": [
    {
     "data": {
      "text/plain": [
       "Array([2.6603673, 2.2968976], dtype=float32)"
      ]
     },
     "execution_count": 37,
     "metadata": {},
     "output_type": "execute_result"
    }
   ],
   "source": [
    "mgf_4_norm_lc = GmmMgf(mgf_norm, bounds_norm, 4, y)\n",
    "out = mgf_4_norm_lc.opt_I(norm_init)\n",
    "out.params"
   ]
  },
  {
   "cell_type": "code",
   "execution_count": 38,
   "id": "21a176e7-f326-4e3a-9d3b-be8ff64f1df0",
   "metadata": {},
   "outputs": [
    {
     "name": "stdout",
     "output_type": "stream",
     "text": [
      "[2023-06-20 12:12:05.991760]: Iteration 1\n",
      "[2023-06-20 12:12:07.808416]: Iteration 2\n",
      "[2023-06-20 12:12:08.133064]: Iteration 3\n",
      "[2023-06-20 12:12:08.461940]: Iteration 4\n",
      "[2023-06-20 12:12:08.744547]: Iteration 5\n"
     ]
    },
    {
     "data": {
      "text/plain": [
       "[Array([2.7241116, 1.8758808], dtype=float32),\n",
       " Array([2.6623006, 1.7858589], dtype=float32),\n",
       " Array([2.635492 , 1.7693557], dtype=float32),\n",
       " Array([2.6269078, 1.7651445], dtype=float32),\n",
       " Array([2.624493 , 1.7641039], dtype=float32)]"
      ]
     },
     "execution_count": 38,
     "metadata": {},
     "output_type": "execute_result"
    }
   ],
   "source": [
    "trace_mgf_4_norm_lc = mgf_4_norm_lc.update_both(5, verbose=True)\n",
    "[out.params for out in trace_mgf_4_norm_lc]"
   ]
  },
  {
   "cell_type": "code",
   "execution_count": 39,
   "id": "a8162661-37b9-455e-b8f2-be15c83820cd",
   "metadata": {},
   "outputs": [
    {
     "data": {
      "text/plain": [
       "(7.519335707861785e-06, Array(23.596066, dtype=float32, weak_type=True))"
      ]
     },
     "execution_count": 39,
     "metadata": {},
     "output_type": "execute_result"
    }
   ],
   "source": [
    "mgf_4_norm_lc.pval, mgf_4_norm_lc.jstat"
   ]
  },
  {
   "cell_type": "markdown",
   "id": "60dc40d3-5b21-4c68-9bd3-8ee223778abf",
   "metadata": {},
   "source": [
    "# Conclusion\n",
    "\n",
    "Herein, we showed how to using the `gmmfun` package to estimate the parameters of a distribution that is only observed via a linear combination of several iid random variates from that distribution.\n",
    "\n",
    "When working in the Bayesian setting, either one would need to marginalize out these latent variables to arrive at a closed form likelihood of the observed, or one would need to generate posterior samples from those latent variables themselves in order to generate estimates of the parameters.  The latter, of course, can be lead to Markov Chain Monte Carlos samplers with high autocorrelation in the parameter samples.\n",
    "\n",
    "In contrast, as seen here, given the moment generating function of the underlying distribution, one can use the generalized method of moments in this scenario to estimate the undrlying parameters of interest fairly rapidly.  Further, the asymptotic variance can be easily computed exactly, not estimated, which leads to a more efficient estimator at a cost of slightly longer computation times."
   ]
  },
  {
   "cell_type": "code",
   "execution_count": null,
   "id": "0aa0ff62-b923-4aa6-8dbe-8ec97986e4ee",
   "metadata": {},
   "outputs": [],
   "source": []
  }
 ],
 "metadata": {
  "kernelspec": {
   "display_name": "Python 3 (ipykernel)",
   "language": "python",
   "name": "python3"
  },
  "language_info": {
   "codemirror_mode": {
    "name": "ipython",
    "version": 3
   },
   "file_extension": ".py",
   "mimetype": "text/x-python",
   "name": "python",
   "nbconvert_exporter": "python",
   "pygments_lexer": "ipython3",
   "version": "3.11.2"
  }
 },
 "nbformat": 4,
 "nbformat_minor": 5
}
